{
 "cells": [
  {
   "cell_type": "code",
   "execution_count": 1,
   "id": "4ed11d49-4ac1-4eeb-9c04-58b1787734dd",
   "metadata": {},
   "outputs": [],
   "source": [
    "import os\n",
    "import math\n",
    "import pickle\n",
    "import numpy as np\n",
    "from rdkit import Chem\n",
    "import tarfile\n",
    "import glob\n",
    "from rdkit.Chem import Draw"
   ]
  },
  {
   "cell_type": "code",
   "execution_count": 4,
   "id": "5f4e51fb-57c4-4cdf-a32b-e739222d2fe7",
   "metadata": {},
   "outputs": [],
   "source": [
    "molstruct = Chem.MolFromSmiles('C1=CC=C(C(=C1)C(=CC=CC(=O)C(=O)O)O)N')\n",
    "compound = 'aaa'\n",
    "Draw.MolToFile(molstruct, 'aaa.png',size=(400,400))\n",
    "from rdkit.Chem.Draw import rdMolDraw2D\n",
    "d2d = rdMolDraw2D.MolDraw2DSVG(400, 400)\n",
    "from IPython.display import SVG\n",
    "d2d.DrawMolecule(molstruct)\n",
    "d2d.FinishDrawing()\n",
    "text1 = d2d.GetDrawingText()\n",
    "\n",
    "\n",
    "img=Draw.MolsToGridImage({molstruct}, molsPerRow=1, subImgSize=(300, 160), useSVG=True)\n",
    "with open('bbb.svg', 'w') as f_handle:\n",
    "    f_handle.write(img.data)\n",
    "\n",
    "img=Draw.MolsToGridImage({molstruct}, molsPerRow=1, subImgSize=(300, 160), useSVG=True)\n",
    "with open('../output/supplOutput/images/' + compound + '.svg', 'w') as f_handle:\n",
    "    f_handle.write(img.data)"
   ]
  },
  {
   "cell_type": "code",
   "execution_count": 4,
   "id": "e0e9af07-4bcd-4c53-8190-449c7a5244f5",
   "metadata": {},
   "outputs": [
    {
     "name": "stdout",
     "output_type": "stream",
     "text": [
      "compound/mol/C00015.mol\n"
     ]
    }
   ],
   "source": [
    "KEGG_local_path = '/Users/feiranl/KEGG/KEGG' # remember to switch to the downloaded KEGG path\n",
    "from pathlib import Path\n",
    "exceptionlist = list()\n",
    "compound_dict = dict()\n",
    "tar = tarfile.open(KEGG_local_path + '/ligand/compound.tar.gz', 'r:gz')\n",
    "mollist = [i for i in tar.getnames() if 'compound/mol/' in i]\n",
    "print(mollist[1])\n",
    "\n",
    "\n"
   ]
  },
  {
   "cell_type": "code",
   "execution_count": 6,
   "id": "b05d8e35-c977-4b24-9195-e41e3a288a9f",
   "metadata": {},
   "outputs": [
    {
     "name": "stdout",
     "output_type": "stream",
     "text": [
      "O=[W](=O)(O)O\n"
     ]
    }
   ],
   "source": [
    "molfile = 'compound/mol/C20679.mol'\n",
    "stringWithMolData = tar.extractfile(molfile).read().decode()\n",
    "molstruct = Chem.MolFromMolBlock(stringWithMolData)\n",
    "#print(molsturct)\n",
    "p = Path(molfile)\n",
    "compound = p.stem\n",
    "#print(compound)\n",
    "compound_dict[compound] = Chem.MolToSmiles(molstruct)\n",
    "print(compound_dict[compound])"
   ]
  },
  {
   "cell_type": "code",
   "execution_count": null,
   "id": "8dc0d8a0-de04-47da-877f-67168fe804a8",
   "metadata": {},
   "outputs": [],
   "source": [
    "for molfile in mollist:\n",
    "    #print\n",
    "    try:\n",
    "        stringWithMolData = tar.extractfile(molfile).read().decode()\n",
    "        molstruct = Chem.MolFromMolBlock(stringWithMolData)\n",
    "        #print(molsturct)\n",
    "        p = Path(molfile)\n",
    "        compound = p.stem\n",
    "        #print(compound)\n",
    "        compound_dict[compound] = Chem.MolToSmiles(molsturct)\n",
    "        #print(compound_dict[compound])\n",
    "        #Draw.MolToFile(molsturct, '../output/supplOutput/images/' + compound + '.png',size=(400,400))\n",
    "        img=Draw.MolsToGridImage({molstruct}, molsPerRow=1, subImgSize=(300, 160), useSVG=True)\n",
    "        with open('../output/supplOutput/images/' + compound + '.svg', 'w') as f_handle:\n",
    "            f_handle.write(img.data)\n",
    "    except:\n",
    "        p = Path(molfile)\n",
    "        compound = p.stem\n",
    "        #print(compound)\n",
    "        exceptionlist.append(compound)   \n",
    "\n",
    "#print(compound_dict)"
   ]
  },
  {
   "cell_type": "code",
   "execution_count": 19,
   "id": "1213fff7-491b-488f-997e-071f3996d252",
   "metadata": {},
   "outputs": [
    {
     "name": "stdout",
     "output_type": "stream",
     "text": [
      "['C01041', 'C02202', 'C12862', 'C13681', 'C13932', 'C18368', 'C18380', 'C18384', 'C19040', 'C19600', 'C20442', 'C21011', 'C21012', 'C21013', 'C21014']\n"
     ]
    }
   ],
   "source": [
    "print(exceptionlist)"
   ]
  },
  {
   "cell_type": "code",
   "execution_count": 28,
   "id": "9581ff4a-55f1-4979-8b46-8a76da6d7e9f",
   "metadata": {},
   "outputs": [],
   "source": [
    "DLKcat.dump_file(compound_dict, '../data/DLKcat/kegg_smiles_dict.pickle')"
   ]
  },
  {
   "cell_type": "code",
   "execution_count": null,
   "id": "a3369aca-1ea6-401b-bdda-e0563dcceec2",
   "metadata": {},
   "outputs": [],
   "source": []
  }
 ],
 "metadata": {
  "kernelspec": {
   "display_name": "Python 3 (ipykernel)",
   "language": "python",
   "name": "python3"
  },
  "language_info": {
   "codemirror_mode": {
    "name": "ipython",
    "version": 3
   },
   "file_extension": ".py",
   "mimetype": "text/x-python",
   "name": "python",
   "nbconvert_exporter": "python",
   "pygments_lexer": "ipython3",
   "version": "3.8.13"
  }
 },
 "nbformat": 4,
 "nbformat_minor": 5
}
