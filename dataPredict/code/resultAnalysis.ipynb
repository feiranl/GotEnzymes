{
 "cells": [
  {
   "cell_type": "code",
   "execution_count": 1,
   "id": "d615f441-4943-4e9b-9c75-d57bd658061e",
   "metadata": {},
   "outputs": [],
   "source": [
    "import os\n",
    "import pickle\n",
    "import pandas as pd\n",
    "import numpy as np\n",
    "import math"
   ]
  },
  {
   "cell_type": "code",
   "execution_count": 2,
   "id": "e723a5c6-e78e-4b67-843e-e6cb3f39ebe2",
   "metadata": {},
   "outputs": [],
   "source": [
    "def get_predictionfile() :\n",
    "    filenames = os.listdir(data_for_prediction)\n",
    "    filenames = [filename.split('.')[0] for filename in filenames if filename.endswith('.txt')]\n",
    "    print(len(filenames)) \n",
    "    # print(filenames[:3])  \n",
    "    return filenames\n",
    "\n",
    "def dump_dictionary(dictionary, filename):\n",
    "    with open(filename, 'wb') as f:\n",
    "        pickle.dump(dictionary, f)"
   ]
  },
  {
   "cell_type": "code",
   "execution_count": 3,
   "id": "610626f0-e2ae-46fe-b759-6e584fddebfe",
   "metadata": {},
   "outputs": [
    {
     "name": "stdout",
     "output_type": "stream",
     "text": [
      "8099\n",
      "rat\n",
      "This is:1000\n",
      "This is:2000\n",
      "This is:3000\n",
      "This is:4000\n",
      "This is:5000\n",
      "This is:6000\n",
      "This is:7000\n",
      "This is:8000\n"
     ]
    }
   ],
   "source": [
    "data_for_prediction = '../../dataPredict/output/input_data/enzymes/'\n",
    "# load data\n",
    "filenames = get_predictionfile()\n",
    "\n",
    "print(filenames[1])\n",
    "i = 0\n",
    "unique_sub = set()\n",
    "unique_enzyme = set()\n",
    "unique_pair = set()\n",
    "\n",
    "Domain_A_kcat_count = dict()\n",
    "Domain_B_kcat_count = dict()\n",
    "Domain_E_kcat_count = dict()\n",
    "EC_kcat_count = dict()\n",
    "\n",
    "for file in filenames:\n",
    "    i+=1\n",
    "    if i%1000 == 0:\n",
    "        print('This is:' + str(i)) \n",
    "    #print(data_for_prediction + file + '.txt')\n",
    "    new_columns = ['protein', 'org', 'domain','ko','rxn', 'ec', 'compound', 'kcat', 'km']\n",
    "    a = pd.read_table(data_for_prediction + file + '.txt', sep='\\t', header=None,names = new_columns)\n",
    "    a['proteins_withorg'] = a['org'].map(str)  + '&' + a['protein'].map(str)  \n",
    "    a['pair'] = a['proteins_withorg'] + '&' + a['compound'] \n",
    "    \n",
    "    #print(a)\n",
    "    newdf = a[['pair', 'kcat']] # 取出其中两列\n",
    "\n",
    "    newdf = newdf.drop_duplicates(subset=['pair'], keep='first') \n",
    "    #newdict = dict(zip(newdf['pair'],newdf['kcat']))\n",
    "    allvalues = list(newdf['kcat'])\n",
    "    #print(len(allvalues))\n",
    "\n",
    "    if a['domain'][2] == 'B':\n",
    "        Domain_B_kcat_count[file] = allvalues\n",
    "    elif a['domain'][2] == 'A':\n",
    "        Domain_A_kcat_count[file] = allvalues\n",
    "    elif a['domain'][2] == 'E':\n",
    "        Domain_E_kcat_count[file] = allvalues\n",
    "    #print(a['compound'].values)\n",
    "    unique_sub.update(a['compound'].values)\n",
    "\n",
    "    unique_enzyme.update(a['proteins_withorg'].values)\n",
    "    unique_pair.update(a['pair'].values)\n",
    "    #print(unique_pair)\n",
    "    for j in range(1,8):\n",
    "        index = a['ec'].str.startswith( str(j)+'.',na=False)\n",
    "        newdf = a[index] # extract lines starts with ecxxxx\n",
    "        newdf = newdf[['pair', 'kcat']] # extract two columns\n",
    "        #print(newdf)\n",
    "        newdf = newdf.drop_duplicates(subset=['pair'], keep='first')\n",
    "        if 'ec' + str(j) not in EC_kcat_count.keys():\n",
    "            EC_kcat_count['ec' + str(j)] = newdf['kcat'].values\n",
    "            #print(EC_kcat_count['ec' + str(j)])\n",
    "        else:\n",
    "            EC_kcat_count['ec' + str(j)] = np.append(EC_kcat_count['ec' + str(j)],newdf['kcat'].values)\n",
    "            #print('ec' + str(j) + ':',str(len(EC_kcat_count['ec' + str(j)])))\n",
    "\n",
    "\n",
    "dump_dictionary(unique_sub, 'unique_sub' + str(i) + '.pickle')\n",
    "dump_dictionary(unique_enzyme, 'unique_enzyme'+ str(i) +'.pickle')\n",
    "dump_dictionary(unique_pair, 'unique_pair'+ str(i) +'.pickle')\n",
    "dump_dictionary(EC_kcat_count, 'EC_kcat_count' + str(i) + '.pickle')\n",
    "dump_dictionary(Domain_A_kcat_count, 'Domain_A_kcat_count'+ str(i) +'.pickle')\n",
    "dump_dictionary(Domain_B_kcat_count, 'Domain_B_kcat_count'+ str(i) +'.pickle')\n",
    "dump_dictionary(Domain_E_kcat_count, 'Domain_E_kcat_count'+ str(i) +'.pickle')"
   ]
  },
  {
   "cell_type": "code",
   "execution_count": 4,
   "id": "1a1e31ca-92f3-426b-b6e2-70ccd3a61f62",
   "metadata": {},
   "outputs": [
    {
     "data": {
      "text/plain": [
       "4147"
      ]
     },
     "execution_count": 4,
     "metadata": {},
     "output_type": "execute_result"
    }
   ],
   "source": [
    "len(unique_sub)"
   ]
  },
  {
   "cell_type": "code",
   "execution_count": 5,
   "id": "97f5c37f-c54e-45fa-a2e4-93c544b32eba",
   "metadata": {},
   "outputs": [
    {
     "data": {
      "text/plain": [
       "5826045"
      ]
     },
     "execution_count": 5,
     "metadata": {},
     "output_type": "execute_result"
    }
   ],
   "source": [
    "len(unique_enzyme)"
   ]
  },
  {
   "cell_type": "code",
   "execution_count": 6,
   "id": "efb80c0a-311f-4156-829f-e0ddb40fbd60",
   "metadata": {},
   "outputs": [
    {
     "data": {
      "text/plain": [
       "25795560"
      ]
     },
     "execution_count": 6,
     "metadata": {},
     "output_type": "execute_result"
    }
   ],
   "source": [
    "len(unique_pair)"
   ]
  },
  {
   "cell_type": "code",
   "execution_count": 7,
   "id": "b4405bd9-e502-4e65-9ffe-bc27d285c725",
   "metadata": {},
   "outputs": [
    {
     "name": "stdout",
     "output_type": "stream",
     "text": [
      "[1733, 2666, 1506, 2404, 2636, 1717, 2116, 1371, 2701, 1808, 1715, 1700, 1462, 1816, 2298, 2221, 1318, 1756, 2178, 1548, 2260, 1670, 2217, 1693, 1596, 2819, 1500, 1666, 1472, 1474, 1392, 3198, 1796, 1524, 2245, 2237, 1722, 1517, 1731, 2039, 1313, 1744, 1716, 1707, 2224, 917, 3029, 2657, 1748, 1994, 1851, 2016, 2179, 1171, 2681, 1427, 2214, 1656, 2137, 2206, 1758, 2398, 1605, 2543, 2043, 1047, 2740, 3168, 1891, 1391, 1629, 1334, 2057, 2742, 1834, 1800, 2671, 1799, 2179, 1650, 1856, 1725, 2192, 1489, 1986, 1883, 2390, 2135, 2410, 1909, 1797, 2049, 1715, 2035, 2274, 1756, 1746, 2204, 1879, 2032, 2170, 1296, 1687, 1296, 1790, 1931, 2192, 1207, 1438, 1130, 2354, 2226, 1354, 1904, 2597, 1890, 2111, 1923, 1628, 2043, 1858, 1312, 1129, 564, 2159, 2055, 2370, 1977, 1530, 1966, 2676, 1609, 1500, 1556, 2032, 2048, 3142, 2626, 3861, 1946, 2812, 1976, 1933, 1525, 2628, 1582, 3227, 2911, 1496, 3185, 1271, 2609, 1964, 1519, 1498, 3084, 1689, 2456, 1823, 2399, 2597, 2242, 2003, 2456, 1956, 1533, 2353, 1034, 2185, 2235, 1182, 2395, 1410, 2010, 1518, 1786, 201, 2015, 2024, 1839, 1316, 2569, 456, 1069, 2019, 2212, 1498, 1537, 1286, 1655, 1773, 2668, 1975, 2459, 2000, 1405, 2375, 1612, 2126, 2118, 866, 1983, 1685, 1762, 1517, 1968, 1128, 2052, 2047, 1963, 1530, 2349, 1317, 1520, 3350, 1274, 1874, 1718, 2270, 1667, 2766, 2654, 3336, 1919, 408, 3084, 1908, 1923, 2717, 1349, 2250, 1190, 1492, 2099, 2115, 1164, 1600, 754, 1335, 2386, 1327, 1333, 448, 1756, 1690, 3164, 1089, 1909, 1566, 2719, 1433, 2233, 1767, 1238, 1770, 195, 1956, 1271, 931, 1351, 1824, 1693, 1033, 1322, 1913, 2363, 2026, 1065, 1678, 2903, 1846, 2333, 2041, 1834, 1492, 1871, 1264, 1945, 1284, 905, 2227, 2018, 1513, 1752, 2206, 2042, 2058, 2002, 3107, 1623, 1445, 1704, 2983, 1439, 1469, 1914, 1493, 2263, 2497, 1639, 1939, 2074, 1810, 2115, 1455, 1484, 1286, 1396, 2252, 1446, 1819, 1979, 1327, 1464, 1833, 2207, 1522, 2832, 1633, 2248, 1819, 2794, 2840, 1753, 2245, 1763, 1336, 2087, 2315, 1217, 1644, 1855, 1880, 2239, 2945, 151, 1513, 1718, 2220, 2202, 1749, 1731, 1636, 1245, 1894, 2380, 1325, 1133, 2157, 3027, 1027, 1537, 2014, 2191, 1030, 2954, 2137, 2248, 1673, 2917, 1195, 1499, 2232, 1374, 1566, 1402, 1725, 1740, 1636, 2519, 1197, 2182, 2217, 1846, 989, 2191, 2172, 1982, 2116, 1330, 1458, 1742, 1744, 2409, 1396, 1577, 2459, 2035, 1469]\n"
     ]
    }
   ],
   "source": [
    "# get data\n",
    "def count_species(dictWithvalues):\n",
    "    count_res = list()\n",
    "    for species in dictWithvalues.keys():\n",
    "        #print(species)\n",
    "        count_res.append(len(dictWithvalues[species]))\n",
    "    return count_res\n",
    "\n",
    "print(count_species(Domain_A_kcat_count))\n",
    "    "
   ]
  },
  {
   "cell_type": "code",
   "execution_count": 8,
   "id": "e291d8f9-8bb5-40d9-b52d-8680b61929c7",
   "metadata": {},
   "outputs": [
    {
     "name": "stdout",
     "output_type": "stream",
     "text": [
      "389\n",
      "6963\n",
      "747\n"
     ]
    }
   ],
   "source": [
    "print(len(count_species(Domain_A_kcat_count)))\n",
    "print(len(count_species(Domain_B_kcat_count)))\n",
    "print(len(count_species(Domain_E_kcat_count)))"
   ]
  },
  {
   "cell_type": "code",
   "execution_count": 9,
   "id": "306fbc29-ad05-43af-b66d-23fc3674764b",
   "metadata": {},
   "outputs": [
    {
     "name": "stderr",
     "output_type": "stream",
     "text": [
      "No artists with labels found to put in legend.  Note that artists whose label start with an underscore are ignored when legend() is called with no argument.\n"
     ]
    },
    {
     "data": {
      "image/png": "[encoded data removed]",
      "text/plain": [
       "<Figure size 216x108 with 1 Axes>"
      ]
     },
     "metadata": {
      "needs_background": "light"
     },
     "output_type": "display_data"
    },
    {
     "name": "stdout",
     "output_type": "stream",
     "text": [
      "7354\n"
     ]
    }
   ],
   "source": [
    "import matplotlib.pyplot as plt\n",
    "import numpy as np\n",
    "\n",
    "plt.figure(figsize=(3,1.5))\n",
    "\n",
    "# To solve the 'Helvetica' font cannot be used in PDF file\n",
    "# https://stackoverflow.com/questions/59845568/the-pdf-backend-does-not-currently-support-the-selected-font\n",
    "plt.rcParams['pdf.fonttype'] = 42\n",
    "\n",
    "plt.axes([0.12,0.12,0.83,0.83])\n",
    "\n",
    "# plt.rcParams['xtick.direction'] = 'in'\n",
    "# plt.rcParams['ytick.direction'] = 'in'\n",
    "\n",
    "plt.tick_params(direction='in')\n",
    "plt.tick_params(which='major',length=1.5)\n",
    "plt.tick_params(which='major',width=0.4)\n",
    "\n",
    "\n",
    "# plt.rc('font', family='Helvetica')\n",
    "plt.xticks(list(np.arange(0,8100,1000)))\n",
    "\n",
    "plt.xlabel('Organisms', fontsize=7)\n",
    "plt.ylabel('Turnover numbers counts', fontsize=7)\n",
    "plt.xticks(fontsize=6)\n",
    "plt.yticks(fontsize=6)\n",
    "plt.legend(frameon=False, prop={\"size\":6})\n",
    "\n",
    "ax = plt.gca()\n",
    "ax.spines['bottom'].set_linewidth(0.5)\n",
    "ax.spines['left'].set_linewidth(0.5)\n",
    "ax.spines['top'].set_linewidth(0.5)\n",
    "ax.spines['right'].set_linewidth(0.5)\n",
    "\n",
    "# Figure for archeae\n",
    "index = len(count_species(Domain_A_kcat_count)) +1\n",
    "x = list(range(1,index))\n",
    "y = count_species(Domain_A_kcat_count)\n",
    "y.sort()\n",
    "plt.bar(x, y, color = '#d7191c',alpha=.5)\n",
    "plt.scatter(x, y, color = '#d7191c',s=1)\n",
    "\n",
    "x = list(range(index + 1,index + 1 + len(count_species(Domain_B_kcat_count))))\n",
    "index = index + len(count_species(Domain_B_kcat_count)) + 1\n",
    "y = count_species(Domain_B_kcat_count)\n",
    "y.sort()\n",
    "plt.bar(x, y, color = '#88c999',alpha=.5)\n",
    "plt.scatter(x, y, color = '#88c999',s=1)\n",
    "\n",
    "x = list(range(index + 1,index + 1 +len(count_species(Domain_E_kcat_count))))\n",
    "#print(x)\n",
    "y = count_species(Domain_E_kcat_count)\n",
    "y.sort()\n",
    "plt.bar(x, y, color = '#2c7bb6',alpha=.5)\n",
    "plt.scatter(x, y, color = '#2c7bb6',s=1)\n",
    "#print(len(x))\n",
    "#print(len(y))\n",
    "plt.xlim([0,8099])\n",
    "ax = plt.gca()\n",
    "\n",
    "\n",
    "ax.axes.yaxis.set_ticks([0,10000,20000,30000,40000])\n",
    "plt.savefig(\"Fig_NumOfValues.pdf\", dpi=400, bbox_inches='tight')\n",
    "\n",
    "\n",
    "plt.show()\n",
    "print(index)"
   ]
  },
  {
   "cell_type": "code",
   "execution_count": 10,
   "id": "bf632bee-a6be-446f-a586-7012009f33aa",
   "metadata": {},
   "outputs": [],
   "source": [
    "# distribution figure\n",
    "def allvalues_out(dict_domain):\n",
    "    #print(len(dict_domain.values()))\n",
    "    result = [element for lis in dict_domain.values() for element in lis]\n",
    "    result = np.array(result)\n",
    "    result[result == 0] = 0.00001\n",
    "    #print(len(result))\n",
    "    return result\n",
    "\n",
    "\n",
    "def distri_dig(y,color,leg):\n",
    "\n",
    "    n, bins, patches=plt.hist(x=np.log10(y),bins = 200,\n",
    "                          histtype='step',#直方图的类型默认为bar{'bar', 'barstacked', 'step', 'stepfilled'}\n",
    "                          facecolor='black',#箱子颜色 \n",
    "                          edgecolor=color,#箱子边框颜色\n",
    "                          density=False,\n",
    "                          alpha= 1,\n",
    "                          label = leg,\n",
    "                          linewidth=0.5)\n",
    "\n",
    "    #print(len(n))#频数\n",
    "    #print(len(bins))#箱子边界\n",
    "    #print(patches)#箱子数\n",
    "\n",
    "    return n,bins"
   ]
  },
  {
   "cell_type": "code",
   "execution_count": 11,
   "id": "fe071400-85d6-46e9-a185-0ffffffeea8d",
   "metadata": {},
   "outputs": [
    {
     "name": "stdout",
     "output_type": "stream",
     "text": [
      "Median of the Eukaryotes:  4.527\n",
      "Median of the Bacteria:  5.2003\n",
      "Median of the Archaea:  4.9525\n",
      "Median of the Total:  5.0413\n",
      "Ratio in 1/s to 100/s:  (1, 100]    0.745576\n",
      "dtype: float64\n"
     ]
    },
    {
     "data": {
      "image/png": "[encoded data removed]",
      "text/plain": [
       "<Figure size 216x108 with 1 Axes>"
      ]
     },
     "metadata": {
      "needs_background": "light"
     },
     "output_type": "display_data"
    }
   ],
   "source": [
    "plt.figure(figsize=(3,1.5))\n",
    "plt.rcParams['pdf.fonttype'] = 42\n",
    "\n",
    "plt.axes([0.12,0.12,0.83,0.83])\n",
    "\n",
    "# plt.rcParams['xtick.direction'] = 'in'\n",
    "# plt.rcParams['ytick.direction'] = 'in'\n",
    "\n",
    "plt.tick_params(direction='in')\n",
    "plt.tick_params(which='major',length=1.5)\n",
    "plt.tick_params(which='major',width=0.4)\n",
    "\n",
    "\n",
    "# plt.rc('font', family='Helvetica')\n",
    "\n",
    "plt.ylabel('Relative fraction', fontsize=7)\n",
    "plt.xlabel('$k$$_\\mathregular{cat}$ (s$^-$$^1$)', fontsize = 7)\n",
    "#plt.legend(frameon=False, prop={\"size\":6})\n",
    "\n",
    "\n",
    "ax = plt.gca()\n",
    "ax.spines['bottom'].set_linewidth(0.5)\n",
    "ax.spines['left'].set_linewidth(0.5)\n",
    "ax.spines['top'].set_linewidth(0.5)\n",
    "ax.spines['right'].set_linewidth(0.5)\n",
    "\n",
    "\n",
    "\n",
    "yE = allvalues_out(Domain_E_kcat_count)\n",
    "print('Median of the Eukaryotes: ', str(np.median(yE)))\n",
    "n,bins = distri_dig(yE,'#2c7bb6','E')\n",
    "width = (bins[2] - bins[1])/2\n",
    "#plt.plot(bins[:-1] + width,n,'-',color='#2c7bb6')\n",
    "\n",
    "yB = allvalues_out(Domain_B_kcat_count)\n",
    "print('Median of the Bacteria: ', str(np.median(yB)))\n",
    "n,bins = distri_dig(yB,'#88c999','B')\n",
    "#plt.plot(bins[:-1] + width,n,'-',color='#88c999')\n",
    "\n",
    "yA = allvalues_out(Domain_A_kcat_count)\n",
    "print('Median of the Archaea: ', str(np.median(yA)))\n",
    "n,bins = distri_dig(yA,'#d7191c','A')\n",
    "#plt.plot(bins[:-1] + width,n,'-',color='#d7191c')\n",
    "\n",
    "# plot all data\n",
    "y_all = np.append(yB, yE, axis=0)\n",
    "y_all = np.append(y_all, yA, axis=0)\n",
    "print('Median of the Total: ', str(np.median(y_all))) # calculate the meadian\n",
    "# calculate ratio of values fall in 1/s to 100/s\n",
    "cats=pd.cut(y_all,[1,100])\n",
    "fraction = pd.value_counts(cats)/len(y_all)\n",
    "\n",
    "print('Ratio in 1/s to 100/s: ', str(fraction))\n",
    "n,bins = distri_dig(y_all,'black','Total')\n",
    "#plt.plot(bins[:-1] + width,n,'-',color='black')\n",
    "plt.xticks([-6.,-4.,-2.,0.,2.,4.,6.])\n",
    "\n",
    "locs, labels = plt.xticks()\n",
    "plt.xticks(locs[1:-1], np.power(10,locs)[1:-1], fontsize = 6)\n",
    "ax = plt.gca()\n",
    "ax.axes.yaxis.set_ticks([])\n",
    "plt.xlim(-4,5)\n",
    "#leg = plt.legend({'Total'},'Location','northwest','Fontsize',6,'FontName','Helvetica');\n",
    "#leg.ItemTokenSize = [0,5];\n",
    "\n",
    "\n",
    "plt.legend()\n",
    "plt.savefig(\"Fig_Distributions.pdf\", dpi=400, bbox_inches='tight')\n",
    "\n",
    "plt.show()\n"
   ]
  },
  {
   "cell_type": "code",
   "execution_count": 12,
   "id": "7cc95c93-4f1e-4392-b3cb-22f889ba45a8",
   "metadata": {},
   "outputs": [
    {
     "data": {
      "text/plain": [
       "{'ec1': array([ 2.5563,  2.5774,  2.1846, ..., 21.2244, 18.5165, 20.1691]),\n",
       " 'ec2': array([ 9.1635,  4.8438,  6.3165, ...,  8.4781, 10.3118,  9.6941]),\n",
       " 'ec3': array([ 3.3949,  9.2261,  2.0675, ..., 27.4366,  0.0827,  3.0681]),\n",
       " 'ec4': array([ 0.6676,  2.3313, 14.8075, ...,  3.8181,  2.5258,  0.5372]),\n",
       " 'ec5': array([15.5665, 15.5665, 35.1687, ...,  8.5228, 11.1467, 11.1467]),\n",
       " 'ec6': array([ 0.0538, 23.9886, 14.6505, ..., 10.1374, 38.1879, 17.5814]),\n",
       " 'ec7': array([  4.8802,   7.6979, 294.3812, ...,   8.6553,   5.1223,   7.3226])}"
      ]
     },
     "execution_count": 12,
     "metadata": {},
     "output_type": "execute_result"
    }
   ],
   "source": [
    "EC_kcat_count"
   ]
  },
  {
   "cell_type": "code",
   "execution_count": 13,
   "id": "e7470386-8d8a-4c2d-b6ad-af9b2221502c",
   "metadata": {},
   "outputs": [
    {
     "name": "stderr",
     "output_type": "stream",
     "text": [
      "No artists with labels found to put in legend.  Note that artists whose label start with an underscore are ignored when legend() is called with no argument.\n"
     ]
    },
    {
     "data": {
      "image/png": "[encoded data removed]",
      "text/plain": [
       "<Figure size 216x108 with 1 Axes>"
      ]
     },
     "metadata": {
      "needs_background": "light"
     },
     "output_type": "display_data"
    }
   ],
   "source": [
    "# plot for EC number\n",
    "plt.figure(figsize=(3,1.5))\n",
    "\n",
    "# To solve the 'Helvetica' font cannot be used in PDF file\n",
    "# https://stackoverflow.com/questions/59845568/the-pdf-backend-does-not-currently-support-the-selected-font\n",
    "plt.rcParams['pdf.fonttype'] = 42\n",
    "\n",
    "plt.axes([0.12,0.12,0.83,0.83])\n",
    "\n",
    "# plt.rcParams['xtick.direction'] = 'in'\n",
    "# plt.rcParams['ytick.direction'] = 'in'\n",
    "\n",
    "plt.tick_params(direction='in')\n",
    "plt.tick_params(which='major',length=1.5)\n",
    "plt.tick_params(which='major',width=0.4)\n",
    "\n",
    "\n",
    "# plt.rc('font', family='Helvetica')\n",
    "plt.xticks(list(np.arange(0,8100,1000)))\n",
    "\n",
    "plt.xlabel('Ec number', fontsize=7)\n",
    "plt.ylabel('Turnover numbers counts', fontsize=7)\n",
    "plt.xticks(fontsize=6)\n",
    "plt.yticks(fontsize=6)\n",
    "plt.legend(frameon=False, prop={\"size\":6})\n",
    "\n",
    "ax = plt.gca()\n",
    "ax.spines['bottom'].set_linewidth(0.5)\n",
    "ax.spines['left'].set_linewidth(0.5)\n",
    "ax.spines['top'].set_linewidth(0.5)\n",
    "ax.spines['right'].set_linewidth(0.5)\n",
    "\n",
    "# Figure for EC number\n",
    "EC_kcat_count\n",
    "index = len(count_species(EC_kcat_count)) +1\n",
    "x = list(range(1,index))\n",
    "y = count_species(EC_kcat_count)\n",
    "#y.sort()\n",
    "plt.bar(x, y, facecolor = '#CBD4CE', edgecolor = 'black',alpha=1)\n",
    "#plt.scatter(x, y, color = '#d7191c',s=0.1)\n",
    "\n",
    "\n",
    "#ax.axes.yaxis.set_ticks([0,10000,20000,30000,40000])\n",
    "plt.savefig(\"Fig_NumOfValues_EC.pdf\", dpi=400, bbox_inches='tight')\n",
    "plt.show()\n"
   ]
  },
  {
   "cell_type": "code",
   "execution_count": 14,
   "id": "c042a8fc-c753-4df3-8dba-90128f3cfd6e",
   "metadata": {},
   "outputs": [
    {
     "name": "stdout",
     "output_type": "stream",
     "text": [
      "Median of the ec 1 :  5.1846\n",
      "Median of the ec 2 :  4.3286\n",
      "Median of the ec 3 :  6.5182\n",
      "Median of the ec 4 :  5.7836\n",
      "Median of the ec 5 :  7.3239\n",
      "Median of the ec 6 :  4.0426\n",
      "Median of the ec 7 :  5.84675\n",
      "7\n"
     ]
    },
    {
     "name": "stderr",
     "output_type": "stream",
     "text": [
      "No artists with labels found to put in legend.  Note that artists whose label start with an underscore are ignored when legend() is called with no argument.\n"
     ]
    },
    {
     "data": {
      "image/png": "[encoded data removed]",
      "text/plain": [
       "<Figure size 216x108 with 1 Axes>"
      ]
     },
     "metadata": {
      "needs_background": "light"
     },
     "output_type": "display_data"
    }
   ],
   "source": [
    "import seaborn as sns  \n",
    "\n",
    "\n",
    "plt.figure(figsize=(3,1.5))\n",
    "plt.rcParams['pdf.fonttype'] = 42\n",
    "\n",
    "plt.axes([0.12,0.12,0.83,0.83])\n",
    "\n",
    "# plt.rcParams['xtick.direction'] = 'in'\n",
    "# plt.rcParams['ytick.direction'] = 'in'\n",
    "\n",
    "plt.tick_params(direction='in')\n",
    "plt.tick_params(which='major',length=1.5)\n",
    "plt.tick_params(which='major',width=0.4)\n",
    "\n",
    "\n",
    "# plt.rc('font', family='Helvetica')\n",
    "\n",
    "plt.ylabel('$k$$_\\mathregular{cat}$ (s$^-$$^1$)', fontsize=7)\n",
    "#plt.xlabel('$k$$_\\mathregular{cat}$ (s$^-$$^1$)', fontsize = 7)\n",
    "#plt.legend(frameon=False, prop={\"size\":6})\n",
    "\n",
    "\n",
    "ax = plt.gca()\n",
    "ax.spines['bottom'].set_linewidth(0.5)\n",
    "ax.spines['left'].set_linewidth(0.5)\n",
    "ax.spines['top'].set_linewidth(0.5)\n",
    "ax.spines['right'].set_linewidth(0.5)\n",
    "\n",
    "y_all = list()\n",
    "for i in range(1,8):\n",
    "    y = EC_kcat_count['ec' + str(i)]\n",
    "    y[y == 0] = 0.00001\n",
    "    y_all.append(np.log10(y))\n",
    "    print('Median of the ec', str(i),': ',str(np.median(y)))\n",
    "    #n,bins = distri_dig(y,'#2c7bb6','E')\n",
    "    #sns.distplot(y, hist_kws={'cumulative': True, 'density': True}, kde_kws={'cumulative': True})\n",
    "    #sns.ecdfplot(data=np.log10(y))\n",
    "\n",
    "\n",
    "# plot all data\n",
    "print(len(y_all))\n",
    "#print('Median of the Total: ', str(np.median(y_all))) # calculate the meadian\n",
    "# calculate ratio of values fall in 1/s to 100/s\n",
    "#cats=pd.cut(y_all,[1,100])\n",
    "#print(cats)\n",
    "\n",
    "#fraction = pd.value_counts(cats)/len(y_all)\n",
    "\n",
    "#print('Ratio in 1/s to 100/s: ', str(fraction))\n",
    "\n",
    "#n,bins = distri_dig(y_all,'black','Total')\n",
    "#sns.distplot(y_all, hist_kws={'cumulative': True, 'density': True}, kde_kws={'cumulative': True})\n",
    "#sns.ecdfplot(data=np.log10(y_all))\n",
    "#plt.plot(bins[:-1] + width,n,'-',color='black')\n",
    "sns.violinplot(x=None, y=None, hue=None,\n",
    "                   data=y_all, order=None, hue_order=None, \n",
    "                   bw='scott', cut=2, scale='area', scale_hue=True, \n",
    "                   gridsize=100, width=0.8, inner='box', split=False,\n",
    "                   dodge=True, orient=None, linewidth=None,\n",
    "                   color=None, palette=None, saturation=0.75,\n",
    "                   ax=None)\n",
    "sns.set_context(\"talk\",font_scale=0.5,rc={\"lines.linewidth\":1})\n",
    "#plt.xticks([-6.,-4.,-2.,0.,2.,4.,6.])\n",
    "#plt.xlim([-4,5])\n",
    "#locs, labels = plt.xticks()\n",
    "#plt.xticks(locs[1:-1], np.power(10,locs)[1:-1], fontsize = 6)\n",
    "#ax = plt.gca()\n",
    "#ax.axes.yaxis.set_ticks([])\n",
    "\n",
    "#leg = plt.legend({'Total'},'Location','northwest','Fontsize',6,'FontName','Helvetica');\n",
    "#leg.ItemTokenSize = [0,5];\n",
    "\n",
    "plt.yticks([-6.,-4.,-2.,0.,2.,4.,6.,8.])\n",
    "plt.ylim([-6,8])\n",
    "locs, labels = plt.yticks()\n",
    "plt.yticks(locs[1:-1], np.power(10,locs)[1:-1], fontsize = 6)\n",
    "ax = plt.gca()\n",
    "labels = ax.set_xticklabels(['EC1.x.x.x','EC2.x.x.x','EC3.x.x.x','EC4.x.x.x','EC5.x.x.x','EC6.x.x.x','EC7.x.x.x'],rotation = 30,fontsize = 6)\n",
    "plt.legend()\n",
    "plt.savefig(\"Fig_Distributions_ec.pdf\", dpi=400, bbox_inches='tight')\n",
    "\n",
    "plt.show()\n",
    "\n"
   ]
  }
 ],
 "metadata": {
  "kernelspec": {
   "display_name": "Python 3",
   "language": "python",
   "name": "python3"
  },
  "language_info": {
   "codemirror_mode": {
    "name": "ipython",
    "version": 3
   },
   "file_extension": ".py",
   "mimetype": "text/x-python",
   "name": "python",
   "nbconvert_exporter": "python",
   "pygments_lexer": "ipython3",
   "version": "3.7.12"
  }
 },
 "nbformat": 4,
 "nbformat_minor": 5
}
